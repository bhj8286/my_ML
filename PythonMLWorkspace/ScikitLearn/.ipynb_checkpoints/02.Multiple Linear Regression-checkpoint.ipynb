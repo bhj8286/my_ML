{
 "cells": [
  {
   "cell_type": "markdown",
   "id": "39732986-8980-4268-8892-f328fa390567",
   "metadata": {},
   "source": [
    "# 2. Multiple Linear Regression"
   ]
  },
  {
   "cell_type": "markdown",
   "id": "3e361700-4081-4fd0-addb-3386a27583d6",
   "metadata": {},
   "source": [
    "## 원-핫 인코딩\n",
    "### 내가 표현하고 싶은 값만 1로, 나머지는 모두 0으로 바꾸는 작업"
   ]
  },
  {
   "cell_type": "code",
   "execution_count": 1,
   "id": "e0231087-dc73-4812-aa72-7b10beb475f5",
   "metadata": {},
   "outputs": [],
   "source": [
    "import pandas as pd"
   ]
  },
  {
   "cell_type": "code",
   "execution_count": 2,
   "id": "45c2c5a4-c0ba-4080-bdd4-6649f9ee74ca",
   "metadata": {},
   "outputs": [],
   "source": [
    "dataset = pd.read_csv('MultipleLinearRegressionData.csv')\n",
    "X = dataset.iloc[:, :-1].values\n",
    "y = dataset.iloc[:, -1].values"
   ]
  },
  {
   "cell_type": "code",
   "execution_count": 3,
   "id": "8519d11d-5508-417c-882e-f6eb30ea923f",
   "metadata": {},
   "outputs": [
    {
     "data": {
      "text/plain": [
       "array([[0.5, 3, 'Home'],\n",
       "       [1.2, 4, 'Library'],\n",
       "       [1.8, 2, 'Cafe'],\n",
       "       [2.4, 0, 'Cafe'],\n",
       "       [2.6, 2, 'Home'],\n",
       "       [3.2, 0, 'Home'],\n",
       "       [3.9, 0, 'Library'],\n",
       "       [4.4, 0, 'Library'],\n",
       "       [4.5, 5, 'Home'],\n",
       "       [5.0, 1, 'Cafe'],\n",
       "       [5.3, 2, 'Cafe'],\n",
       "       [5.8, 0, 'Cafe'],\n",
       "       [6.0, 3, 'Library'],\n",
       "       [6.1, 1, 'Cafe'],\n",
       "       [6.2, 1, 'Library'],\n",
       "       [6.9, 4, 'Home'],\n",
       "       [7.2, 2, 'Cafe'],\n",
       "       [8.4, 1, 'Home'],\n",
       "       [8.6, 1, 'Library'],\n",
       "       [10.0, 0, 'Library']], dtype=object)"
      ]
     },
     "execution_count": 3,
     "metadata": {},
     "output_type": "execute_result"
    }
   ],
   "source": [
    "X"
   ]
  },
  {
   "cell_type": "code",
   "execution_count": 4,
   "id": "57d398db-fdab-4a83-8e07-09b4c05f887a",
   "metadata": {},
   "outputs": [
    {
     "data": {
      "text/plain": [
       "array([[1.0, 0.0, 0.5, 3],\n",
       "       [0.0, 1.0, 1.2, 4],\n",
       "       [0.0, 0.0, 1.8, 2],\n",
       "       [0.0, 0.0, 2.4, 0],\n",
       "       [1.0, 0.0, 2.6, 2],\n",
       "       [1.0, 0.0, 3.2, 0],\n",
       "       [0.0, 1.0, 3.9, 0],\n",
       "       [0.0, 1.0, 4.4, 0],\n",
       "       [1.0, 0.0, 4.5, 5],\n",
       "       [0.0, 0.0, 5.0, 1],\n",
       "       [0.0, 0.0, 5.3, 2],\n",
       "       [0.0, 0.0, 5.8, 0],\n",
       "       [0.0, 1.0, 6.0, 3],\n",
       "       [0.0, 0.0, 6.1, 1],\n",
       "       [0.0, 1.0, 6.2, 1],\n",
       "       [1.0, 0.0, 6.9, 4],\n",
       "       [0.0, 0.0, 7.2, 2],\n",
       "       [1.0, 0.0, 8.4, 1],\n",
       "       [0.0, 1.0, 8.6, 1],\n",
       "       [0.0, 1.0, 10.0, 0]], dtype=object)"
      ]
     },
     "execution_count": 4,
     "metadata": {},
     "output_type": "execute_result"
    }
   ],
   "source": [
    "from sklearn.compose import ColumnTransformer\n",
    "from sklearn.preprocessing import OneHotEncoder\n",
    "ct = ColumnTransformer(transformers=[('encoder', OneHotEncoder(drop='first'), [2])], remainder='passthrough')\n",
    "X = ct.fit_transform(X)\n",
    "X\n",
    "\n",
    "# 1 0 : Home\n",
    "# 0 1 : Library\n",
    "# 0 0 : Cafe"
   ]
  },
  {
   "cell_type": "markdown",
   "id": "19cef672-4290-490b-aa8d-9e25ace5fe72",
   "metadata": {},
   "source": [
    "### 데이터 세트 분리"
   ]
  },
  {
   "cell_type": "code",
   "execution_count": 5,
   "id": "696933cf-cbae-43c9-a65f-1c7fa611fd04",
   "metadata": {},
   "outputs": [],
   "source": [
    "from sklearn.model_selection import train_test_split\n",
    "X_train, X_test, y_train, y_test = train_test_split(X, y, test_size=0.2, random_state=0)"
   ]
  },
  {
   "cell_type": "markdown",
   "id": "0d2e235f-f64d-4447-abfb-cc84d8cb1211",
   "metadata": {},
   "source": [
    "### 학습 (다중 선형 회귀)"
   ]
  },
  {
   "cell_type": "code",
   "execution_count": 6,
   "id": "7f6e2f88-fd0f-4dc6-aae9-7fa972a20fa8",
   "metadata": {},
   "outputs": [
    {
     "data": {
      "text/html": [
       "<style>#sk-container-id-1 {color: black;}#sk-container-id-1 pre{padding: 0;}#sk-container-id-1 div.sk-toggleable {background-color: white;}#sk-container-id-1 label.sk-toggleable__label {cursor: pointer;display: block;width: 100%;margin-bottom: 0;padding: 0.3em;box-sizing: border-box;text-align: center;}#sk-container-id-1 label.sk-toggleable__label-arrow:before {content: \"▸\";float: left;margin-right: 0.25em;color: #696969;}#sk-container-id-1 label.sk-toggleable__label-arrow:hover:before {color: black;}#sk-container-id-1 div.sk-estimator:hover label.sk-toggleable__label-arrow:before {color: black;}#sk-container-id-1 div.sk-toggleable__content {max-height: 0;max-width: 0;overflow: hidden;text-align: left;background-color: #f0f8ff;}#sk-container-id-1 div.sk-toggleable__content pre {margin: 0.2em;color: black;border-radius: 0.25em;background-color: #f0f8ff;}#sk-container-id-1 input.sk-toggleable__control:checked~div.sk-toggleable__content {max-height: 200px;max-width: 100%;overflow: auto;}#sk-container-id-1 input.sk-toggleable__control:checked~label.sk-toggleable__label-arrow:before {content: \"▾\";}#sk-container-id-1 div.sk-estimator input.sk-toggleable__control:checked~label.sk-toggleable__label {background-color: #d4ebff;}#sk-container-id-1 div.sk-label input.sk-toggleable__control:checked~label.sk-toggleable__label {background-color: #d4ebff;}#sk-container-id-1 input.sk-hidden--visually {border: 0;clip: rect(1px 1px 1px 1px);clip: rect(1px, 1px, 1px, 1px);height: 1px;margin: -1px;overflow: hidden;padding: 0;position: absolute;width: 1px;}#sk-container-id-1 div.sk-estimator {font-family: monospace;background-color: #f0f8ff;border: 1px dotted black;border-radius: 0.25em;box-sizing: border-box;margin-bottom: 0.5em;}#sk-container-id-1 div.sk-estimator:hover {background-color: #d4ebff;}#sk-container-id-1 div.sk-parallel-item::after {content: \"\";width: 100%;border-bottom: 1px solid gray;flex-grow: 1;}#sk-container-id-1 div.sk-label:hover label.sk-toggleable__label {background-color: #d4ebff;}#sk-container-id-1 div.sk-serial::before {content: \"\";position: absolute;border-left: 1px solid gray;box-sizing: border-box;top: 0;bottom: 0;left: 50%;z-index: 0;}#sk-container-id-1 div.sk-serial {display: flex;flex-direction: column;align-items: center;background-color: white;padding-right: 0.2em;padding-left: 0.2em;position: relative;}#sk-container-id-1 div.sk-item {position: relative;z-index: 1;}#sk-container-id-1 div.sk-parallel {display: flex;align-items: stretch;justify-content: center;background-color: white;position: relative;}#sk-container-id-1 div.sk-item::before, #sk-container-id-1 div.sk-parallel-item::before {content: \"\";position: absolute;border-left: 1px solid gray;box-sizing: border-box;top: 0;bottom: 0;left: 50%;z-index: -1;}#sk-container-id-1 div.sk-parallel-item {display: flex;flex-direction: column;z-index: 1;position: relative;background-color: white;}#sk-container-id-1 div.sk-parallel-item:first-child::after {align-self: flex-end;width: 50%;}#sk-container-id-1 div.sk-parallel-item:last-child::after {align-self: flex-start;width: 50%;}#sk-container-id-1 div.sk-parallel-item:only-child::after {width: 0;}#sk-container-id-1 div.sk-dashed-wrapped {border: 1px dashed gray;margin: 0 0.4em 0.5em 0.4em;box-sizing: border-box;padding-bottom: 0.4em;background-color: white;}#sk-container-id-1 div.sk-label label {font-family: monospace;font-weight: bold;display: inline-block;line-height: 1.2em;}#sk-container-id-1 div.sk-label-container {text-align: center;}#sk-container-id-1 div.sk-container {/* jupyter's `normalize.less` sets `[hidden] { display: none; }` but bootstrap.min.css set `[hidden] { display: none !important; }` so we also need the `!important` here to be able to override the default hidden behavior on the sphinx rendered scikit-learn.org. See: https://github.com/scikit-learn/scikit-learn/issues/21755 */display: inline-block !important;position: relative;}#sk-container-id-1 div.sk-text-repr-fallback {display: none;}</style><div id=\"sk-container-id-1\" class=\"sk-top-container\"><div class=\"sk-text-repr-fallback\"><pre>LinearRegression()</pre><b>In a Jupyter environment, please rerun this cell to show the HTML representation or trust the notebook. <br />On GitHub, the HTML representation is unable to render, please try loading this page with nbviewer.org.</b></div><div class=\"sk-container\" hidden><div class=\"sk-item\"><div class=\"sk-estimator sk-toggleable\"><input class=\"sk-toggleable__control sk-hidden--visually\" id=\"sk-estimator-id-1\" type=\"checkbox\" checked><label for=\"sk-estimator-id-1\" class=\"sk-toggleable__label sk-toggleable__label-arrow\">LinearRegression</label><div class=\"sk-toggleable__content\"><pre>LinearRegression()</pre></div></div></div></div></div>"
      ],
      "text/plain": [
       "LinearRegression()"
      ]
     },
     "execution_count": 6,
     "metadata": {},
     "output_type": "execute_result"
    }
   ],
   "source": [
    "from sklearn.linear_model import LinearRegression\n",
    "reg = LinearRegression()\n",
    "reg.fit(X_train, y_train)"
   ]
  },
  {
   "cell_type": "markdown",
   "id": "86084843-1bc0-417d-a8b7-eea3363e3541",
   "metadata": {},
   "source": [
    "### 예측 값과 실제 값 비교 (테스트 세트)"
   ]
  },
  {
   "cell_type": "code",
   "execution_count": 7,
   "id": "80ee494c-20f1-46bf-a3da-f9dfa396a4bf",
   "metadata": {},
   "outputs": [
    {
     "data": {
      "text/plain": [
       "array([ 92.15457859,  10.23753043, 108.36245302,  38.14675204])"
      ]
     },
     "execution_count": 7,
     "metadata": {},
     "output_type": "execute_result"
    }
   ],
   "source": [
    "y_pred = reg.predict(X_test)\n",
    "y_pred"
   ]
  },
  {
   "cell_type": "code",
   "execution_count": 8,
   "id": "d87a0a02-c502-4ede-a127-312f68c4ba96",
   "metadata": {},
   "outputs": [
    {
     "data": {
      "text/plain": [
       "array([ 90,   8, 100,  38], dtype=int64)"
      ]
     },
     "execution_count": 8,
     "metadata": {},
     "output_type": "execute_result"
    }
   ],
   "source": [
    "y_test"
   ]
  },
  {
   "cell_type": "code",
   "execution_count": 9,
   "id": "d3f29a90-e89f-489f-956b-445afacf9b55",
   "metadata": {},
   "outputs": [
    {
     "data": {
      "text/plain": [
       "array([-5.82712824, -1.04450647, 10.40419528, -1.64200104])"
      ]
     },
     "execution_count": 9,
     "metadata": {},
     "output_type": "execute_result"
    }
   ],
   "source": [
    "reg.coef_"
   ]
  },
  {
   "cell_type": "code",
   "execution_count": 10,
   "id": "5e2437c5-3cd6-4132-a7d4-aeea82249fee",
   "metadata": {},
   "outputs": [
    {
     "data": {
      "text/plain": [
       "5.3650067065447615"
      ]
     },
     "execution_count": 10,
     "metadata": {},
     "output_type": "execute_result"
    }
   ],
   "source": [
    "reg.intercept_"
   ]
  },
  {
   "cell_type": "markdown",
   "id": "6ad986f3-5714-460f-a6db-22f5549cf950",
   "metadata": {},
   "source": [
    "### 모델 평가"
   ]
  },
  {
   "cell_type": "code",
   "execution_count": 11,
   "id": "f89f6335-6a3d-4cad-a0f9-16195e1cb116",
   "metadata": {},
   "outputs": [
    {
     "data": {
      "text/plain": [
       "0.9623352565265527"
      ]
     },
     "execution_count": 11,
     "metadata": {},
     "output_type": "execute_result"
    }
   ],
   "source": [
    "reg.score(X_train, y_train) # 훈련 세트"
   ]
  },
  {
   "cell_type": "code",
   "execution_count": 12,
   "id": "ae1f0c97-448c-442a-a535-40f29ec32a5d",
   "metadata": {},
   "outputs": [
    {
     "data": {
      "text/plain": [
       "0.9859956178877446"
      ]
     },
     "execution_count": 12,
     "metadata": {},
     "output_type": "execute_result"
    }
   ],
   "source": [
    "reg.score(X_test, y_test) # 테스트 세트"
   ]
  },
  {
   "cell_type": "markdown",
   "id": "0c44923b-bb25-42bc-a5e1-c5813b96ff5b",
   "metadata": {},
   "source": [
    "### 다양한 평가 지표 (회귀 모델)"
   ]
  },
  {
   "cell_type": "markdown",
   "id": "1be858e2-65b5-4b7e-acef-2541cb478248",
   "metadata": {},
   "source": [
    "1. MAE (Mean Absolute Error) : (실제 값과 예측 값) 차이의 절대값\r\n",
    "1. MSE (Mean Squared Error) : 차이의 제곱\r\n",
    "1. RMSE (Root Mean Squared Error) : 차이의 제곱에 루트\r\n",
    "1. R2 : 결정 계수\r\n",
    "\r\n",
    "> R2 는 1에 가까울수록, 나머지는 0에 가까울수록 좋음"
   ]
  },
  {
   "cell_type": "code",
   "execution_count": 13,
   "id": "48512dd7-8623-4de7-a338-2c24d71cd26a",
   "metadata": {},
   "outputs": [
    {
     "data": {
      "text/plain": [
       "3.225328518828796"
      ]
     },
     "execution_count": 13,
     "metadata": {},
     "output_type": "execute_result"
    }
   ],
   "source": [
    "from sklearn.metrics import mean_absolute_error\n",
    "mean_absolute_error(y_test, y_pred) # 실제 값, 예측 값 # MAE"
   ]
  },
  {
   "cell_type": "code",
   "execution_count": 14,
   "id": "8afcce3d-aa39-470f-bec5-f610e08dfab9",
   "metadata": {},
   "outputs": [
    {
     "data": {
      "text/plain": [
       "19.900226981514965"
      ]
     },
     "execution_count": 14,
     "metadata": {},
     "output_type": "execute_result"
    }
   ],
   "source": [
    "from sklearn.metrics import mean_squared_error\n",
    "mean_squared_error(y_test, y_pred) # MSE"
   ]
  },
  {
   "cell_type": "code",
   "execution_count": 15,
   "id": "4f45339d-4e77-450b-86ea-bda52411bb12",
   "metadata": {},
   "outputs": [
    {
     "data": {
      "text/plain": [
       "4.460967045553572"
      ]
     },
     "execution_count": 15,
     "metadata": {},
     "output_type": "execute_result"
    }
   ],
   "source": [
    "from sklearn.metrics import mean_squared_error\n",
    "mean_squared_error(y_test, y_pred, squared=False) # RMSE"
   ]
  },
  {
   "cell_type": "code",
   "execution_count": 16,
   "id": "6be4d648-6a1c-45d3-9517-986bc6c7b025",
   "metadata": {},
   "outputs": [
    {
     "data": {
      "text/plain": [
       "0.9859956178877446"
      ]
     },
     "execution_count": 16,
     "metadata": {},
     "output_type": "execute_result"
    }
   ],
   "source": [
    "from sklearn.metrics import r2_score\n",
    "r2_score(y_test, y_pred) # R2"
   ]
  },
  {
   "cell_type": "code",
   "execution_count": null,
   "id": "1ce29e5b-23bd-43c8-bee2-873efca6106c",
   "metadata": {},
   "outputs": [],
   "source": []
  },
  {
   "cell_type": "code",
   "execution_count": null,
   "id": "38d4ad68-200b-4773-9a39-69e8bc5e8b1d",
   "metadata": {},
   "outputs": [],
   "source": []
  },
  {
   "cell_type": "code",
   "execution_count": null,
   "id": "8217ca5b-998a-4ab5-a072-f5baf4233e09",
   "metadata": {},
   "outputs": [],
   "source": []
  },
  {
   "cell_type": "code",
   "execution_count": null,
   "id": "3ec0764d-8499-4557-8396-4b195fcce822",
   "metadata": {},
   "outputs": [],
   "source": []
  },
  {
   "cell_type": "code",
   "execution_count": null,
   "id": "425e1825-38cb-4fbe-ad3b-04663f05b1be",
   "metadata": {},
   "outputs": [],
   "source": []
  },
  {
   "cell_type": "code",
   "execution_count": null,
   "id": "e4da56b3-000b-42ad-a37c-99a598a7b88a",
   "metadata": {},
   "outputs": [],
   "source": []
  },
  {
   "cell_type": "code",
   "execution_count": null,
   "id": "f586cc23-ed19-47db-8669-f83fc24bafb8",
   "metadata": {},
   "outputs": [],
   "source": []
  },
  {
   "cell_type": "code",
   "execution_count": null,
   "id": "cb6db825-4207-408e-907c-fab5026a742d",
   "metadata": {},
   "outputs": [],
   "source": []
  },
  {
   "cell_type": "code",
   "execution_count": null,
   "id": "ec29f4b9-aa56-4f94-8431-fce9bf3ddc73",
   "metadata": {},
   "outputs": [],
   "source": []
  },
  {
   "cell_type": "code",
   "execution_count": null,
   "id": "bb9a7d91-fe25-4925-9836-19b355c5527b",
   "metadata": {},
   "outputs": [],
   "source": []
  },
  {
   "cell_type": "code",
   "execution_count": null,
   "id": "94c3b916-1e93-43d1-95fc-7a764b697a32",
   "metadata": {},
   "outputs": [],
   "source": []
  },
  {
   "cell_type": "code",
   "execution_count": null,
   "id": "80f5ac0d-f862-4e67-8228-82ca8cd4fbd2",
   "metadata": {},
   "outputs": [],
   "source": []
  },
  {
   "cell_type": "code",
   "execution_count": null,
   "id": "2bd91138-5b8c-4e71-a1a6-3865dffafeba",
   "metadata": {},
   "outputs": [],
   "source": []
  },
  {
   "cell_type": "code",
   "execution_count": null,
   "id": "ed66569a-607b-4120-ad8d-cfde0bb5b5b9",
   "metadata": {},
   "outputs": [],
   "source": []
  },
  {
   "cell_type": "code",
   "execution_count": null,
   "id": "5a8ceaf0-cf9e-49cb-bfbf-01753a52349b",
   "metadata": {},
   "outputs": [],
   "source": []
  },
  {
   "cell_type": "code",
   "execution_count": null,
   "id": "23408d1b-4dc6-4af7-bea5-92648cd7f3ab",
   "metadata": {},
   "outputs": [],
   "source": []
  },
  {
   "cell_type": "code",
   "execution_count": null,
   "id": "314cff8d-d4ee-4558-be85-6246d8e9cc15",
   "metadata": {},
   "outputs": [],
   "source": []
  },
  {
   "cell_type": "code",
   "execution_count": null,
   "id": "cd93daee-0c2e-4554-8b84-8d27a4d54be9",
   "metadata": {},
   "outputs": [],
   "source": []
  },
  {
   "cell_type": "code",
   "execution_count": null,
   "id": "abe68d28-fcbf-43ab-ae12-014fbe818743",
   "metadata": {},
   "outputs": [],
   "source": []
  },
  {
   "cell_type": "code",
   "execution_count": null,
   "id": "20615aa9-7138-4baa-a35a-bab69016dcaf",
   "metadata": {},
   "outputs": [],
   "source": []
  },
  {
   "cell_type": "code",
   "execution_count": null,
   "id": "c96e4dc0-71fb-4e50-8b47-8fcd7151a75d",
   "metadata": {},
   "outputs": [],
   "source": []
  },
  {
   "cell_type": "code",
   "execution_count": null,
   "id": "f4ae6311-1efc-428b-91c6-ed785a9dfc54",
   "metadata": {},
   "outputs": [],
   "source": []
  },
  {
   "cell_type": "code",
   "execution_count": null,
   "id": "ba3b5166-d754-4e1c-9c9e-18724db7fcac",
   "metadata": {},
   "outputs": [],
   "source": []
  },
  {
   "cell_type": "code",
   "execution_count": null,
   "id": "6e054cfe-5404-453a-b23a-bfc6590c0b65",
   "metadata": {},
   "outputs": [],
   "source": []
  },
  {
   "cell_type": "code",
   "execution_count": null,
   "id": "7fbe9f02-4161-4cca-85c0-7415ed2cc22e",
   "metadata": {},
   "outputs": [],
   "source": []
  },
  {
   "cell_type": "code",
   "execution_count": null,
   "id": "f01b0399-e30d-4ec5-8ffe-9fb6355ac0d9",
   "metadata": {},
   "outputs": [],
   "source": []
  },
  {
   "cell_type": "code",
   "execution_count": null,
   "id": "06c72f94-197b-467e-83a6-3f6e0b42ef91",
   "metadata": {},
   "outputs": [],
   "source": []
  },
  {
   "cell_type": "code",
   "execution_count": null,
   "id": "1aca7bef-ac9b-4816-b379-245dfba0b00f",
   "metadata": {},
   "outputs": [],
   "source": []
  },
  {
   "cell_type": "code",
   "execution_count": null,
   "id": "6548be86-4e19-4360-8045-431082012ace",
   "metadata": {},
   "outputs": [],
   "source": []
  },
  {
   "cell_type": "code",
   "execution_count": null,
   "id": "c115e53a-8fc0-4528-9154-1189550e187e",
   "metadata": {},
   "outputs": [],
   "source": []
  },
  {
   "cell_type": "code",
   "execution_count": null,
   "id": "c13f62af-8470-4c02-bed7-1015eeed4c03",
   "metadata": {},
   "outputs": [],
   "source": []
  },
  {
   "cell_type": "code",
   "execution_count": null,
   "id": "d5084f67-c656-4632-8257-87309f7aa9f9",
   "metadata": {},
   "outputs": [],
   "source": []
  },
  {
   "cell_type": "code",
   "execution_count": null,
   "id": "08522c91-f775-47cf-9bb9-ba7453f39681",
   "metadata": {},
   "outputs": [],
   "source": []
  },
  {
   "cell_type": "code",
   "execution_count": null,
   "id": "d48c6fc7-bd6a-4150-9595-e6ababab9534",
   "metadata": {},
   "outputs": [],
   "source": []
  },
  {
   "cell_type": "code",
   "execution_count": null,
   "id": "97c455ed-860a-4e8f-b389-a895906c4b31",
   "metadata": {},
   "outputs": [],
   "source": []
  },
  {
   "cell_type": "code",
   "execution_count": null,
   "id": "c7a076c7-440e-435e-ad3d-17b16b6f8e0a",
   "metadata": {},
   "outputs": [],
   "source": []
  },
  {
   "cell_type": "code",
   "execution_count": null,
   "id": "0db9511a-4c1c-4426-9ea0-b39f5d120050",
   "metadata": {},
   "outputs": [],
   "source": []
  },
  {
   "cell_type": "code",
   "execution_count": null,
   "id": "6a3da77a-136c-4fda-a024-32ff4aba3a6c",
   "metadata": {},
   "outputs": [],
   "source": []
  },
  {
   "cell_type": "code",
   "execution_count": null,
   "id": "a5376d15-8e42-49dd-9411-e2706b7aafea",
   "metadata": {},
   "outputs": [],
   "source": []
  },
  {
   "cell_type": "code",
   "execution_count": null,
   "id": "5340c403-5a31-4d91-aa40-a5df7eaf9b94",
   "metadata": {},
   "outputs": [],
   "source": []
  },
  {
   "cell_type": "code",
   "execution_count": null,
   "id": "eaa5f348-5f79-4e14-adf8-739547d308ab",
   "metadata": {},
   "outputs": [],
   "source": []
  },
  {
   "cell_type": "code",
   "execution_count": null,
   "id": "93eaacd8-3151-4bd7-9bee-0167fed7d523",
   "metadata": {},
   "outputs": [],
   "source": []
  }
 ],
 "metadata": {
  "kernelspec": {
   "display_name": "Python 3 (ipykernel)",
   "language": "python",
   "name": "python3"
  },
  "language_info": {
   "codemirror_mode": {
    "name": "ipython",
    "version": 3
   },
   "file_extension": ".py",
   "mimetype": "text/x-python",
   "name": "python",
   "nbconvert_exporter": "python",
   "pygments_lexer": "ipython3",
   "version": "3.11.5"
  }
 },
 "nbformat": 4,
 "nbformat_minor": 5
}
