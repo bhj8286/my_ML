{
 "cells": [
  {
   "cell_type": "markdown",
   "id": "5b6043df-c9be-42e1-8f3c-78482bf720a0",
   "metadata": {},
   "source": [
    "# 개념\n",
    "- 독립변수(원인): 입력변수, `feature`\n",
    "- 종속변수(결과): 출력변수, target, `label`"
   ]
  },
  {
   "cell_type": "markdown",
   "id": "9804a9a5-d0ff-466a-a477-069670861460",
   "metadata": {},
   "source": [
    "## 선형회귀\n",
    "### 실제값에서 예측값을 뺀 값을 제곱해준 값들의 합이 최소인 경우가 최적의 직선"
   ]
  },
  {
   "cell_type": "markdown",
   "id": "46a1f6f5-6a55-44d9-87cd-43871512dbc4",
   "metadata": {},
   "source": [
    "## 데이터세트분리\n",
    "### 이미 가지고 있는 데이터들을 갖고 모델을 평가하기 위해 데이터 세트를 훈련 세트와 테스트 세트로 분리 (보통 8:2)\n",
    "#### 훈련 세트: X_train(독립변수), y_train(그때의 종속변수)\n",
    "#### 테스트 세트: X_test, y_test \n",
    "-> x_train, x_test는 예측대상을 제외하고 학습에 적용되는 칼럼만 모아진 집합, y_train, y_test는 예측 대상에 해당하는 칼럼!!"
   ]
  },
  {
   "cell_type": "markdown",
   "id": "198b9a0c-0b4c-41e7-89da-96230972d8e0",
   "metadata": {},
   "source": [
    "## 원-핫 인코딩\n",
    "### 내가 표현하고 싶은 값만 1로, 나머지는 모두 0으로 바꾸는 작업"
   ]
  },
  {
   "cell_type": "markdown",
   "id": "e490b9e7-32f3-4c86-81db-a1332966f9f9",
   "metadata": {},
   "source": [
    "#### 다중공선성 : \"독립 변수들 간에 서로 강한 상관관계를 가지면서 회귀계수 추정의 오류가 나타나는 문제\" -> 하나의 피처가 다른 피처에 영향을 끼침\n",
    "#### 해결법: Dummy Column이 n개면? n-1개만 사용"
   ]
  },
  {
   "cell_type": "markdown",
   "id": "8197ccba-1b01-40d4-87d2-710ba3f558eb",
   "metadata": {},
   "source": [
    "## 과대적합: 학습 데이터에만 너무 적합하여 실제 데이터와는 맞지 않는 현상을 의미한다"
   ]
  },
  {
   "cell_type": "code",
   "execution_count": null,
   "id": "3c765423-7c6c-42a3-b986-9032bf85275f",
   "metadata": {},
   "outputs": [],
   "source": []
  },
  {
   "cell_type": "code",
   "execution_count": null,
   "id": "1cdc9437-8ccd-4fc6-8608-0d5ffd21030b",
   "metadata": {},
   "outputs": [],
   "source": []
  },
  {
   "cell_type": "code",
   "execution_count": null,
   "id": "20d7206a-41f0-4088-a6ec-7db2a2e8dfe5",
   "metadata": {},
   "outputs": [],
   "source": []
  },
  {
   "cell_type": "code",
   "execution_count": null,
   "id": "1117d239-a5e1-4c7c-8f12-9282bc8fe888",
   "metadata": {},
   "outputs": [],
   "source": []
  },
  {
   "cell_type": "code",
   "execution_count": null,
   "id": "c6862bcb-e017-41ed-9640-dfecdf313c22",
   "metadata": {},
   "outputs": [],
   "source": []
  },
  {
   "cell_type": "code",
   "execution_count": null,
   "id": "537bb6ac-422f-45e6-b93f-50a0e6ab5181",
   "metadata": {},
   "outputs": [],
   "source": []
  },
  {
   "cell_type": "code",
   "execution_count": null,
   "id": "ad46b380-01c7-4529-baf2-5dd4941e59c7",
   "metadata": {},
   "outputs": [],
   "source": []
  },
  {
   "cell_type": "code",
   "execution_count": null,
   "id": "47e0d7b8-c474-4524-968f-00669329d329",
   "metadata": {},
   "outputs": [],
   "source": []
  },
  {
   "cell_type": "code",
   "execution_count": null,
   "id": "2a2395e3-5759-48de-94f6-3148c5ea9449",
   "metadata": {},
   "outputs": [],
   "source": []
  },
  {
   "cell_type": "code",
   "execution_count": null,
   "id": "649a9232-d3cd-4f73-931c-b8e88ec46bae",
   "metadata": {},
   "outputs": [],
   "source": []
  },
  {
   "cell_type": "code",
   "execution_count": null,
   "id": "66f8ddca-a134-4f2c-8c7f-4975fb4fdbeb",
   "metadata": {},
   "outputs": [],
   "source": []
  },
  {
   "cell_type": "code",
   "execution_count": null,
   "id": "0b4ec480-a030-4759-bcaf-d252e80b71d7",
   "metadata": {},
   "outputs": [],
   "source": []
  },
  {
   "cell_type": "code",
   "execution_count": null,
   "id": "a36bb267-e71b-47d4-8dab-70e2782d9cbf",
   "metadata": {},
   "outputs": [],
   "source": []
  },
  {
   "cell_type": "code",
   "execution_count": null,
   "id": "1c682028-29b7-429c-a485-5b98c4b84c8d",
   "metadata": {},
   "outputs": [],
   "source": []
  },
  {
   "cell_type": "code",
   "execution_count": null,
   "id": "f7c26d44-0d32-44d5-9a55-13d8769c956e",
   "metadata": {},
   "outputs": [],
   "source": []
  },
  {
   "cell_type": "code",
   "execution_count": null,
   "id": "6534cb1a-f075-4bae-9b74-0c22f054b736",
   "metadata": {},
   "outputs": [],
   "source": []
  },
  {
   "cell_type": "code",
   "execution_count": null,
   "id": "e25c1ebf-e598-434c-a7aa-d6d54474fb11",
   "metadata": {},
   "outputs": [],
   "source": []
  },
  {
   "cell_type": "code",
   "execution_count": null,
   "id": "12db8284-410f-4597-a07d-5cf61871c0d9",
   "metadata": {},
   "outputs": [],
   "source": []
  },
  {
   "cell_type": "code",
   "execution_count": null,
   "id": "65b6eb09-d2a8-4f3e-867a-720a746af156",
   "metadata": {},
   "outputs": [],
   "source": []
  },
  {
   "cell_type": "code",
   "execution_count": null,
   "id": "edbffd46-8085-4c59-accf-eee187eccf05",
   "metadata": {},
   "outputs": [],
   "source": []
  },
  {
   "cell_type": "code",
   "execution_count": null,
   "id": "904145bb-01de-47c7-859b-31105f007418",
   "metadata": {},
   "outputs": [],
   "source": []
  },
  {
   "cell_type": "code",
   "execution_count": null,
   "id": "e434aeba-fd87-44a4-85d1-cbf90cfbc66e",
   "metadata": {},
   "outputs": [],
   "source": []
  },
  {
   "cell_type": "code",
   "execution_count": null,
   "id": "fcbb3b98-3019-4d8f-9d20-513ef3b48b4f",
   "metadata": {},
   "outputs": [],
   "source": []
  },
  {
   "cell_type": "code",
   "execution_count": null,
   "id": "bdfbd70f-e11a-4898-8a87-89f8e15dff81",
   "metadata": {},
   "outputs": [],
   "source": []
  },
  {
   "cell_type": "code",
   "execution_count": null,
   "id": "9c9f59c7-ea34-4537-a67d-eaa46d7edc36",
   "metadata": {},
   "outputs": [],
   "source": []
  },
  {
   "cell_type": "code",
   "execution_count": null,
   "id": "aed8fd24-dc9d-4922-98ff-108ac7793d67",
   "metadata": {},
   "outputs": [],
   "source": []
  },
  {
   "cell_type": "code",
   "execution_count": null,
   "id": "19949d38-ad96-47b9-89cd-5ee2a16188d2",
   "metadata": {},
   "outputs": [],
   "source": []
  },
  {
   "cell_type": "code",
   "execution_count": null,
   "id": "cfa3c2d7-800a-410c-9221-9f0811bd2834",
   "metadata": {},
   "outputs": [],
   "source": []
  },
  {
   "cell_type": "code",
   "execution_count": null,
   "id": "df9b29b4-e891-48e9-b0fa-e8be7f50e1d8",
   "metadata": {},
   "outputs": [],
   "source": []
  },
  {
   "cell_type": "code",
   "execution_count": null,
   "id": "464b20c6-fcbb-44cc-a67c-12ae2cbfc6b8",
   "metadata": {},
   "outputs": [],
   "source": []
  },
  {
   "cell_type": "code",
   "execution_count": null,
   "id": "d17da06d-08b7-44de-a29a-58fcc518ceb3",
   "metadata": {},
   "outputs": [],
   "source": []
  },
  {
   "cell_type": "code",
   "execution_count": null,
   "id": "e9cabd5e-4df4-45e1-943b-5d06a11e9b85",
   "metadata": {},
   "outputs": [],
   "source": []
  },
  {
   "cell_type": "code",
   "execution_count": null,
   "id": "ac608d41-f181-4319-9408-e2a6b57ca3e2",
   "metadata": {},
   "outputs": [],
   "source": []
  }
 ],
 "metadata": {
  "kernelspec": {
   "display_name": "Python 3 (ipykernel)",
   "language": "python",
   "name": "python3"
  },
  "language_info": {
   "codemirror_mode": {
    "name": "ipython",
    "version": 3
   },
   "file_extension": ".py",
   "mimetype": "text/x-python",
   "name": "python",
   "nbconvert_exporter": "python",
   "pygments_lexer": "ipython3",
   "version": "3.11.5"
  }
 },
 "nbformat": 4,
 "nbformat_minor": 5
}
